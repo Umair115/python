{
 "cells": [
  {
   "cell_type": "code",
   "execution_count": 15,
   "metadata": {},
   "outputs": [],
   "source": [
    "import numpy\n",
    "import pandas\n",
    "import keras\n",
    "import tensorflow.contrib.eager as tfe\n",
    "from keras import models\n",
    "from keras import layers\n",
    "from keras.models import Sequential\n",
    "from keras.layers import Dense\n",
    "from keras.wrappers.scikit_learn import KerasClassifier\n",
    "from sklearn.model_selection import cross_val_score\n",
    "from sklearn.model_selection import KFold\n",
    "from sklearn.model_selection import StratifiedKFold\n",
    "from sklearn.preprocessing import LabelEncoder\n",
    "from sklearn.pipeline import Pipeline\n",
    "from keras.utils import np_utils\n",
    "from sklearn.preprocessing import StandardScaler\n",
    "from sklearn import preprocessing\n",
    "from sklearn.utils import shuffle\n",
    "from keras.utils import plot_model\n",
    "from keras.models import Sequential, Model\n",
    "from keras import Input"
   ]
  },
  {
   "cell_type": "code",
   "execution_count": 2,
   "metadata": {},
   "outputs": [],
   "source": [
    "# fix random seed for reproducibility\n",
    "seed = 7\n",
    "numpy.random.seed(seed)\n"
   ]
  },
  {
   "cell_type": "code",
   "execution_count": 3,
   "metadata": {},
   "outputs": [],
   "source": [
    "# load dataset\n",
    "dataframe = pandas.read_csv(\"iris.csv\", header=None)\n",
    "dataset = dataframe.values\n",
    "X = dataset[:,0:4].astype(float)\n",
    "Y = dataset[:,4]"
   ]
  },
  {
   "cell_type": "code",
   "execution_count": 4,
   "metadata": {},
   "outputs": [],
   "source": [
    "# encode class values as integers\n",
    "encoder = LabelEncoder()\n",
    "encoder.fit(Y)\n",
    "encoded_Y = encoder.transform(Y)\n",
    "# convert integers to dummy variables (i.e. one hot encoded)\n",
    "dummy_y = np_utils.to_categorical(encoded_Y)"
   ]
  },
  {
   "cell_type": "code",
   "execution_count": 5,
   "metadata": {},
   "outputs": [
    {
     "data": {
      "text/plain": [
       "(150, 4)"
      ]
     },
     "execution_count": 5,
     "metadata": {},
     "output_type": "execute_result"
    }
   ],
   "source": [
    "X.shape"
   ]
  },
  {
   "cell_type": "code",
   "execution_count": 17,
   "metadata": {},
   "outputs": [
    {
     "name": "stdout",
     "output_type": "stream",
     "text": [
      "tuned_subclass_model: 97.33% (3.27%)\n"
     ]
    }
   ],
   "source": [
    "class MyTunedModel(keras.Model):  # change\n",
    "  \n",
    "  def __init__(self):\n",
    "    super(MyTunedModel,self).__init__('my_tuned')   # change     \n",
    "    self.dense1 = keras.layers.Dense(8, activation='relu')\n",
    "    self.dense2 = keras.layers.Dense(10, activation='relu')   \n",
    "    self.dense3 = keras.layers.Dense(10, activation='relu')   \n",
    "    self.dense4 = keras.layers.Dense(10, activation='relu')   # change\n",
    "    self.dense5 = keras.layers.Dense(3, activation='softmax')\n",
    "    \n",
    "  def call(self, inputs):\n",
    "    x = self.dense1(inputs)\n",
    "    x = self.dense2(x)      #change\n",
    "    x = self.dense3(x) \n",
    "    x = self.dense4(x)  \n",
    "    return self.dense5(x)\n",
    "    \n",
    "def tuned_subclass_model():  #change\n",
    "  inputs = keras.Input(shape=(4,))\n",
    "  mymodel = MyTunedModel()        #change\n",
    "  outputs = mymodel.call(inputs)\n",
    "    \n",
    "  model = keras.Model(inputs,outputs)\n",
    "    \n",
    "#compiling model\n",
    "  model.compile(optimizer = 'Adam', loss = 'categorical_crossentropy', metrics = ['accuracy'])\n",
    "\n",
    "  return model\n",
    "\n",
    "estimator = KerasClassifier(build_fn=tuned_subclass_model, epochs=100, batch_size=5, verbose=0)    #change\n",
    "\n",
    "kfold = KFold(n_splits=10, shuffle=True, random_state=None)\n",
    "\n",
    "results = cross_val_score(estimator, X, dummy_y, cv=kfold)\n",
    "print(\"tuned_subclass_model: %.2f%% (%.2f%%)\" % (results.mean()*100, results.std()*100))  #change"
   ]
  },
  {
   "cell_type": "code",
   "execution_count": null,
   "metadata": {},
   "outputs": [],
   "source": []
  }
 ],
 "metadata": {
  "kernelspec": {
   "display_name": "Python 3",
   "language": "python",
   "name": "python3"
  },
  "language_info": {
   "codemirror_mode": {
    "name": "ipython",
    "version": 3
   },
   "file_extension": ".py",
   "mimetype": "text/x-python",
   "name": "python",
   "nbconvert_exporter": "python",
   "pygments_lexer": "ipython3",
   "version": "3.6.6"
  }
 },
 "nbformat": 4,
 "nbformat_minor": 2
}
